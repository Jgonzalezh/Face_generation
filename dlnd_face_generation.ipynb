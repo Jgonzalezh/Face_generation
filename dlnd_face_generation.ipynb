{
 "cells": [
  {
   "cell_type": "markdown",
   "metadata": {},
   "source": [
    "# Face Generation\n",
    "\n",
    "In this project, you'll define and train a DCGAN on a dataset of faces. Your goal is to get a generator network to generate *new* images of faces that look as realistic as possible!\n",
    "\n",
    "The project will be broken down into a series of tasks from **loading in data to defining and training adversarial networks**. At the end of the notebook, you'll be able to visualize the results of your trained Generator to see how it performs; your generated samples should look like fairly realistic faces with small amounts of noise.\n",
    "\n",
    "### Get the Data\n",
    "\n",
    "You'll be using the [CelebFaces Attributes Dataset (CelebA)](http://mmlab.ie.cuhk.edu.hk/projects/CelebA.html) to train your adversarial networks.\n",
    "\n",
    "This dataset is more complex than the number datasets (like MNIST or SVHN) you've been working with, and so, you should prepare to define deeper networks and train them for a longer time to get good results. It is suggested that you utilize a GPU for training.\n",
    "\n",
    "### Pre-processed Data\n",
    "\n",
    "Since the project's main focus is on building the GANs, we've done *some* of the pre-processing for you. Each of the CelebA images has been cropped to remove parts of the image that don't include a face, then resized down to 64x64x3 NumPy images. Some sample data is show below.\n",
    "\n",
    "<img src='assets/processed_face_data.png' width=60% />\n",
    "\n",
    "> If you are working locally, you can download this data [by clicking here](https://s3.amazonaws.com/video.udacity-data.com/topher/2018/November/5be7eb6f_processed-celeba-small/processed-celeba-small.zip)\n",
    "\n",
    "This is a zip file that you'll need to extract in the home directory of this notebook for further loading and processing. After extracting the data, you should be left with a directory of data `processed_celeba_small/`"
   ]
  },
  {
   "cell_type": "code",
   "execution_count": 41,
   "metadata": {},
   "outputs": [],
   "source": [
    "# can comment out after executing\n",
    "#!unzip processed_celeba_small.zip\n",
    "#y"
   ]
  },
  {
   "cell_type": "code",
   "execution_count": 42,
   "metadata": {},
   "outputs": [],
   "source": [
    "import signal\n",
    "\n",
    "from contextlib import contextmanager\n",
    "\n",
    "import requests\n",
    "\n",
    "\n",
    "DELAY = INTERVAL = 4 * 60  # interval time in seconds\n",
    "MIN_DELAY = MIN_INTERVAL = 2 * 60\n",
    "KEEPALIVE_URL = \"https://nebula.udacity.com/api/v1/remote/keep-alive\"\n",
    "TOKEN_URL = \"http://metadata.google.internal/computeMetadata/v1/instance/attributes/keep_alive_token\"\n",
    "TOKEN_HEADERS = {\"Metadata-Flavor\":\"Google\"}\n",
    "\n",
    "\n",
    "def _request_handler(headers):\n",
    "    def _handler(signum, frame):\n",
    "        requests.request(\"POST\", KEEPALIVE_URL, headers=headers)\n",
    "    return _handler\n",
    "\n",
    "\n",
    "@contextmanager\n",
    "def active_session(delay=DELAY, interval=INTERVAL):\n",
    "    \"\"\"\n",
    "    Example:\n",
    "\n",
    "    from workspace_utils import active session\n",
    "\n",
    "    with active_session():\n",
    "        # do long-running work here\n",
    "    \"\"\"\n",
    "    token = requests.request(\"GET\", TOKEN_URL, headers=TOKEN_HEADERS).text\n",
    "    headers = {'Authorization': \"STAR \" + token}\n",
    "    delay = max(delay, MIN_DELAY)\n",
    "    interval = max(interval, MIN_INTERVAL)\n",
    "    original_handler = signal.getsignal(signal.SIGALRM)\n",
    "    try:\n",
    "        signal.signal(signal.SIGALRM, _request_handler(headers))\n",
    "        signal.setitimer(signal.ITIMER_REAL, delay, interval)\n",
    "        yield\n",
    "    finally:\n",
    "        signal.signal(signal.SIGALRM, original_handler)\n",
    "        signal.setitimer(signal.ITIMER_REAL, 0)\n",
    "\n",
    "\n",
    "def keep_awake(iterable, delay=DELAY, interval=INTERVAL):\n",
    "    \"\"\"\n",
    "    Example:\n",
    "\n",
    "    from workspace_utils import keep_awake\n",
    "\n",
    "    for i in keep_awake(range(5)):\n",
    "        # do iteration with lots of work here\n",
    "    \"\"\"\n",
    "    with active_session(delay, interval): yield from iterable"
   ]
  },
  {
   "cell_type": "code",
   "execution_count": null,
   "metadata": {},
   "outputs": [],
   "source": []
  },
  {
   "cell_type": "code",
   "execution_count": 43,
   "metadata": {},
   "outputs": [],
   "source": [
    "data_dir = 'processed_celeba_small/'\n",
    "\n",
    "\"\"\"\n",
    "DON'T MODIFY ANYTHING IN THIS CELL\n",
    "\"\"\"\n",
    "import pickle as pkl\n",
    "import matplotlib.pyplot as plt\n",
    "import numpy as np\n",
    "import problem_unittests as tests\n",
    "#import helper\n",
    "\n",
    "%matplotlib inline"
   ]
  },
  {
   "cell_type": "markdown",
   "metadata": {},
   "source": [
    "## Visualize the CelebA Data\n",
    "\n",
    "The [CelebA](http://mmlab.ie.cuhk.edu.hk/projects/CelebA.html) dataset contains over 200,000 celebrity images with annotations. Since you're going to be generating faces, you won't need the annotations, you'll only need the images. Note that these are color images with [3 color channels (RGB)](https://en.wikipedia.org/wiki/Channel_(digital_image)#RGB_Images) each.\n",
    "\n",
    "### Pre-process and Load the Data\n",
    "\n",
    "Since the project's main focus is on building the GANs, we've done *some* of the pre-processing for you. Each of the CelebA images has been cropped to remove parts of the image that don't include a face, then resized down to 64x64x3 NumPy images. This *pre-processed* dataset is a smaller subset of the very large CelebA data.\n",
    "\n",
    "> There are a few other steps that you'll need to **transform** this data and create a **DataLoader**.\n",
    "\n",
    "#### Exercise: Complete the following `get_dataloader` function, such that it satisfies these requirements:\n",
    "\n",
    "* Your images should be square, Tensor images of size `image_size x image_size` in the x and y dimension.\n",
    "* Your function should return a DataLoader that shuffles and batches these Tensor images.\n",
    "\n",
    "#### ImageFolder\n",
    "\n",
    "To create a dataset given a directory of images, it's recommended that you use PyTorch's [ImageFolder](https://pytorch.org/docs/stable/torchvision/datasets.html#imagefolder) wrapper, with a root directory `processed_celeba_small/` and data transformation passed in."
   ]
  },
  {
   "cell_type": "code",
   "execution_count": 44,
   "metadata": {},
   "outputs": [],
   "source": [
    "# necessary imports\n",
    "import torch\n",
    "from torchvision import datasets\n",
    "from torchvision import transforms"
   ]
  },
  {
   "cell_type": "code",
   "execution_count": 45,
   "metadata": {},
   "outputs": [],
   "source": [
    "def get_dataloader(batch_size, image_size, data_dir='processed_celeba_small/'):\n",
    "    \"\"\"\n",
    "    Batch the neural network data using DataLoader\n",
    "    :param batch_size: The size of each batch; the number of images in a batch\n",
    "    :param img_size: The square size of the image data (x, y)\n",
    "    :param data_dir: Directory where image data is located\n",
    "    :return: DataLoader with batched data\n",
    "    \"\"\"\n",
    "    transform= transforms.Compose([transforms.Resize(image_size),\n",
    "                                  transforms.ToTensor()])\n",
    "    dataloaders= torch.utils.data.DataLoader(datasets.ImageFolder(data_dir,transform=transform), shuffle=True,batch_size=batch_size)\n",
    "    # TODO: Implement function and return a dataloader\n",
    "    \n",
    "    return dataloaders\n"
   ]
  },
  {
   "cell_type": "markdown",
   "metadata": {},
   "source": [
    "## Create a DataLoader\n",
    "\n",
    "#### Exercise: Create a DataLoader `celeba_train_loader` with appropriate hyperparameters.\n",
    "\n",
    "Call the above function and create a dataloader to view images. \n",
    "* You can decide on any reasonable `batch_size` parameter\n",
    "* Your `image_size` **must be** `32`. Resizing the data to a smaller size will make for faster training, while still creating convincing images of faces!"
   ]
  },
  {
   "cell_type": "code",
   "execution_count": 46,
   "metadata": {},
   "outputs": [],
   "source": [
    "# Define function hyperparameters\n",
    "batch_size = 200\n",
    "img_size = 32\n",
    "\n",
    "\"\"\"\n",
    "DON'T MODIFY ANYTHING IN THIS CELL THAT IS BELOW THIS LINE\n",
    "\"\"\"\n",
    "# Call your function and get a dataloader\n",
    "celeba_train_loader = get_dataloader(batch_size, img_size)\n"
   ]
  },
  {
   "cell_type": "markdown",
   "metadata": {},
   "source": [
    "Next, you can view some images! You should seen square images of somewhat-centered faces.\n",
    "\n",
    "Note: You'll need to convert the Tensor images into a NumPy type and transpose the dimensions to correctly display an image, suggested `imshow` code is below, but it may not be perfect."
   ]
  },
  {
   "cell_type": "code",
   "execution_count": 47,
   "metadata": {},
   "outputs": [
    {
     "data": {
      "image/png": "[encoded data removed]",
      "text/plain": [
       "<matplotlib.figure.Figure at 0x7ff6143c5160>"
      ]
     },
     "metadata": {},
     "output_type": "display_data"
    }
   ],
   "source": [
    "# helper display function\n",
    "def imshow(img):\n",
    "    npimg = img.numpy()\n",
    "    plt.imshow(np.transpose(npimg, (1, 2, 0)))\n",
    "\n",
    "\"\"\"\n",
    "DON'T MODIFY ANYTHING IN THIS CELL THAT IS BELOW THIS LINE\n",
    "\"\"\"\n",
    "# obtain one batch of training images\n",
    "dataiter = iter(celeba_train_loader)\n",
    "images, _ = dataiter.next() # _ for no labels\n",
    "\n",
    "# plot the images in the batch, along with the corresponding labels\n",
    "fig = plt.figure(figsize=(20, 4))\n",
    "plot_size=20\n",
    "for idx in np.arange(plot_size):\n",
    "    ax = fig.add_subplot(2, plot_size/2, idx+1, xticks=[], yticks=[])\n",
    "    imshow(images[idx])"
   ]
  },
  {
   "cell_type": "code",
   "execution_count": 48,
   "metadata": {},
   "outputs": [
    {
     "name": "stdout",
     "output_type": "stream",
     "text": [
      "450\n"
     ]
    }
   ],
   "source": [
    "print(len(dataiter))"
   ]
  },
  {
   "cell_type": "markdown",
   "metadata": {},
   "source": [
    "#### Exercise: Pre-process your image data and scale it to a pixel range of -1 to 1\n",
    "\n",
    "You need to do a bit of pre-processing; you know that the output of a `tanh` activated generator will contain pixel values in a range from -1 to 1, and so, we need to rescale our training images to a range of -1 to 1. (Right now, they are in a range from 0-1.)"
   ]
  },
  {
   "cell_type": "code",
   "execution_count": 49,
   "metadata": {},
   "outputs": [],
   "source": [
    "# TODO: Complete the scale function\n",
    "def scale(x, feature_range=(-1, 1)):\n",
    "    ''' Scale takes in an image x and returns that image, scaled\n",
    "       with a feature_range of pixel values from -1 to 1. \n",
    "       This function assumes that the input x is already scaled from 0-1.'''\n",
    "    # assume x is scaled to (0, 1)\n",
    "    # scale to feature_range and return scaled x\n",
    "    min,max = feature_range\n",
    "    \n",
    "    x = (max-min)*x + min\n",
    "    return x\n"
   ]
  },
  {
   "cell_type": "code",
   "execution_count": 50,
   "metadata": {},
   "outputs": [
    {
     "name": "stdout",
     "output_type": "stream",
     "text": [
      "Min:  tensor(-0.9686)\n",
      "Max:  tensor(0.8824)\n"
     ]
    }
   ],
   "source": [
    "\"\"\"\n",
    "DON'T MODIFY ANYTHING IN THIS CELL THAT IS BELOW THIS LINE\n",
    "\"\"\"\n",
    "# check scaled range\n",
    "# should be close to -1 to 1\n",
    "img = images[0]\n",
    "scaled_img = scale(img)\n",
    "\n",
    "print('Min: ', scaled_img.min())\n",
    "print('Max: ', scaled_img.max())"
   ]
  },
  {
   "cell_type": "code",
   "execution_count": 51,
   "metadata": {},
   "outputs": [
    {
     "data": {
      "text/plain": [
       "200"
      ]
     },
     "execution_count": 51,
     "metadata": {},
     "output_type": "execute_result"
    }
   ],
   "source": [
    "len(images)"
   ]
  },
  {
   "cell_type": "markdown",
   "metadata": {},
   "source": [
    "---\n",
    "# Define the Model\n",
    "\n",
    "A GAN is comprised of two adversarial networks, a discriminator and a generator.\n",
    "\n",
    "## Discriminator\n",
    "\n",
    "Your first task will be to define the discriminator. This is a convolutional classifier like you've built before, only without any maxpooling layers. To deal with this complex data, it's suggested you use a deep network with **normalization**. You are also allowed to create any helper functions that may be useful.\n",
    "\n",
    "#### Exercise: Complete the Discriminator class\n",
    "* The inputs to the discriminator are 32x32x3 tensor images\n",
    "* The output should be a single value that will indicate whether a given image is real or fake\n"
   ]
  },
  {
   "cell_type": "code",
   "execution_count": 52,
   "metadata": {},
   "outputs": [],
   "source": [
    "import torch.nn as nn\n",
    "import torch.nn.functional as F"
   ]
  },
  {
   "cell_type": "code",
   "execution_count": 53,
   "metadata": {},
   "outputs": [],
   "source": [
    "def conv (in_channels, out_channels, kernel_size, stride=2, padding=1,  batch_norm = True):\n",
    "    layers =[]\n",
    "    conv1 = torch.nn.Conv2d(in_channels, out_channels, kernel_size, stride=stride, padding=padding, bias=False)\n",
    "    layers.append(conv1)\n",
    "    if batch_norm:\n",
    "        batch_layer = torch.nn.BatchNorm2d(out_channels)\n",
    "        layers.append(batch_layer)\n",
    "\n",
    "    return nn.Sequential(*layers)"
   ]
  },
  {
   "cell_type": "code",
   "execution_count": 54,
   "metadata": {},
   "outputs": [
    {
     "name": "stdout",
     "output_type": "stream",
     "text": [
      "Tests Passed\n"
     ]
    }
   ],
   "source": [
    "class Discriminator(nn.Module):\n",
    "\n",
    "    def __init__(self, conv_dim):\n",
    "        \"\"\"\n",
    "        Initialize the Discriminator Module\n",
    "        :param conv_dim: The depth of the first convolutional layer\n",
    "        \"\"\"\n",
    "        super(Discriminator, self).__init__()\n",
    "        \"\"\"\n",
    "        # complete init function\n",
    "        self.conv_dim = conv_dim\n",
    "        self.conv1 = nn.Conv2d(3, conv_dim, kernel_size=4, stride=2, padding=1, bias=False)\n",
    "        #self.batch_norm1 = nn.BatchNorm2d(conv_dim)\n",
    "        self.conv2 = nn.Conv2d(conv_dim, conv_dim*2, kernel_size=4, stride=2, padding=1, bias=False)\n",
    "        self.batch_norm2 = nn.BatchNorm2d(conv_dim*2)\n",
    "        self.conv3 = nn.Conv2d(conv_dim*2, conv_dim*4, kernel_size=4, stride=2, padding=1, bias=False)\n",
    "        self.batch_norm3 = nn.BatchNorm2d(conv_dim*4)\n",
    "        self.conv4 = nn.Conv2d(conv_dim*4, conv_dim*8, kernel_size=4, stride=2, padding=1, bias=False)\n",
    "        self.batch_norm4 = nn.BatchNorm2d(conv_dim*8)\n",
    "        self.conv5 = nn.Conv2d(conv_dim*8, conv_dim*16, kernel_size=4, stride=2, padding=1, bias=False)\n",
    "        self.fc = nn.Linear(conv_dim*4*4, 1)\n",
    "        self.dropout = nn.Dropout(0.2)\n",
    "        \"\"\"\n",
    "        self.conv_dim = conv_dim\n",
    "        self.conv1 = conv(3, conv_dim, 4, batch_norm=False)\n",
    "        self.conv2 = conv(conv_dim,conv_dim*2,4)\n",
    "        self.conv3 = conv(conv_dim*2,conv_dim*4,4)\n",
    "        self.conv4 = conv(conv_dim*4,conv_dim*8,4)\n",
    "        self.dropout = nn.Dropout(0.2)\n",
    "        self.fc = nn.Linear(conv_dim*8*2*2,1)\n",
    "        \n",
    "    def forward(self, x):\n",
    "        \"\"\"\n",
    "        Forward propagation of the neural network\n",
    "        :param x: The input to the neural network     \n",
    "        :return: Discriminator logits; the output of the neural network\n",
    "        \"\"\"\n",
    "        \n",
    "        \"\"\"\n",
    "        # define feedforward behavior\n",
    "        x = F.leaky_relu(self.conv1(x), 0.2)\n",
    "        x = F.leaky_relu(self.batch_norm2(self.conv2(x)), 0.2)\n",
    "        x = F.leaky_relu(self.batch_norm3(self.conv3(x)), 0.2)\n",
    "        x = F.leaky_relu(self.batch_norm4(self.conv4(x)), 0.2)\n",
    "        x = self.conv5(x)\n",
    "        x = self.dropout(x)\n",
    "        x = x.view(-1, self.conv_dim*4*4)\n",
    "        x = F.sigmoid(self.fc(x))\n",
    "        \"\"\"\n",
    "        \n",
    "        x = F.leaky_relu(self.conv1(x), 0.2)\n",
    "        x = F.leaky_relu(self.conv2(x), 0.2)\n",
    "        x = F.leaky_relu(self.conv3(x), 0.2)\n",
    "        x = F.leaky_relu(self.conv4(x), 0.2)\n",
    "        x = self.dropout(x)\n",
    "        x = x.view(-1, self.conv_dim*8*2*2)\n",
    "        x = self.fc(x)\n",
    "        return x\n",
    "\n",
    "\n",
    "\"\"\"\n",
    "DON'T MODIFY ANYTHING IN THIS CELL THAT IS BELOW THIS LINE\n",
    "\"\"\"\n",
    "tests.test_discriminator(Discriminator)"
   ]
  },
  {
   "cell_type": "markdown",
   "metadata": {},
   "source": [
    "## Generator\n",
    "\n",
    "The generator should upsample an input and generate a *new* image of the same size as our training data `32x32x3`. This should be mostly transpose convolutional layers with normalization applied to the outputs.\n",
    "\n",
    "#### Exercise: Complete the Generator class\n",
    "* The inputs to the generator are vectors of some length `z_size`\n",
    "* The output should be a image of shape `32x32x3`"
   ]
  },
  {
   "cell_type": "code",
   "execution_count": 55,
   "metadata": {},
   "outputs": [],
   "source": [
    "def deconv (in_channels, out_channels, kernel_size, stride=2, padding=1,  batch_norm = True):\n",
    "    layers =[]\n",
    "    convt_1 = torch.nn.ConvTranspose2d(in_channels, out_channels, kernel_size, stride=stride, padding=padding, bias=False)\n",
    "    layers.append(convt_1)\n",
    "    if batch_norm:\n",
    "        batch_layer = torch.nn.BatchNorm2d(out_channels)\n",
    "        layers.append(batch_layer)\n",
    "    return nn.Sequential(*layers)"
   ]
  },
  {
   "cell_type": "code",
   "execution_count": 113,
   "metadata": {},
   "outputs": [
    {
     "name": "stdout",
     "output_type": "stream",
     "text": [
      "Tests Passed\n"
     ]
    }
   ],
   "source": [
    "class Generator(nn.Module):\n",
    "    \n",
    "    def __init__(self, z_size, conv_dim):\n",
    "        \"\"\"\n",
    "        Initialize the Generator Module\n",
    "        :param z_size: The length of the input latent vector, z\n",
    "        :param conv_dim: The depth of the inputs to the *last* transpose convolutional layer\n",
    "        \"\"\"\n",
    "        super(Generator, self).__init__()\n",
    "        \"\"\"\n",
    "        # complete init function\n",
    "        self.conv_dim = conv_dim\n",
    "        self.conv1 = nn.ConvTranspose2d(conv_dim, conv_dim*8,kernel_size=4, stride=2, padding=1, bias=False)\n",
    "        #nn.Conv2d(3, conv_dim, kernel_size=4, stride=2, padding=1, bias=False)\n",
    "        self.batch_norm1 = nn.BatchNorm2d(conv_dim*8)\n",
    "        self.conv2 =  nn.ConvTranspose2d(conv_dim*8, conv_dim*4,kernel_size=4, stride=2, padding=1, bias=False)\n",
    "        #nn.Conv2d(conv_dim, conv_dim*2, kernel_size=4, stride=2, padding=1, bias=False)\n",
    "        self.batch_norm2 = nn.BatchNorm2d(conv_dim*4)\n",
    "        self.conv3 = nn.ConvTranspose2d(conv_dim*4, conv_dim*2,kernel_size=4, stride=2, padding=1, bias=False)\n",
    "        #nn.Conv2d(conv_dim*2, conv_dim*4, kernel_size=4, stride=2, padding=1, bias=False)\n",
    "        self.batch_norm3 = nn.BatchNorm2d(conv_dim*2)\n",
    "        self.conv4 = nn.ConvTranspose2d(conv_dim*2, 3,kernel_size=4, stride=2, padding=1, bias=False)\n",
    "        #nn.Conv2d(conv_dim*4, conv_dim*8, kernel_size=4, stride=2, padding=1, bias=False)\n",
    "        #self.batch_norm4 = \n",
    "        #nn.BatchNorm2d(conv_dim*8)\n",
    "        #self.conv5 = \n",
    "        #nn.Conv2d(conv_dim*8, conv_dim*16, kernel_size=4, stride=2, padding=1, bias=False)\n",
    "        self.fc = nn.Linear(z_size, conv_dim*4)\n",
    "        self.dropout = nn.Dropout(0.2)\n",
    "        \"\"\"\n",
    "        self.conv_dim = conv_dim\n",
    "        self.conv1 = deconv (conv_dim*8, conv_dim*4, 4)\n",
    "        self.conv2 = deconv (conv_dim*4, conv_dim*2, 4)\n",
    "        self.conv3 = deconv (conv_dim*2, conv_dim, 4)\n",
    "        self.conv4 = deconv (conv_dim, 3, 4, batch_norm=False)\n",
    "        self.fc = nn.Linear(z_size, conv_dim*8*2*2)\n",
    "        self.dropout = nn.Dropout(0.2)\n",
    "        \n",
    "        \n",
    "        \n",
    "    def forward(self, x):\n",
    "        \"\"\"\n",
    "        Forward propagation of the neural network\n",
    "        :param x: The input to the neural network     \n",
    "        :return: A 32x32x3 Tensor image as output\n",
    "        \"\"\"\n",
    "        # define feedforward behavior\n",
    "        \"\"\"\n",
    "        b_s=x.shape[0]\n",
    "        x=self.fc(x)\n",
    "        x=x.view(b_s, self.conv_dim,2,2)\n",
    "        x=F.relu(self.batch_norm1(self.conv1(x)))\n",
    "        x=F.relu(self.batch_norm2(self.conv2(x)))\n",
    "        x=F.relu(self.batch_norm3(self.conv3(x)))\n",
    "        x=self.dropout(x)\n",
    "        x=self.conv4(x)\n",
    "        x=F.tanh(x)\n",
    "        return x\n",
    "        \"\"\"\n",
    "        x = self.fc(x)\n",
    "        x = x.view(-1,self.conv_dim*8,2,2)\n",
    "        x = F.relu(self.conv1(x))\n",
    "        x = self.dropout(x)\n",
    "        x = F.relu(self.conv2(x))\n",
    "        x = self.dropout(x)\n",
    "        x = F.relu(self.conv3(x))\n",
    "        x = self.dropout(x)\n",
    "        x = F.tanh(self.conv4(x))\n",
    "        \n",
    "        return x\n",
    "        \n",
    "\"\"\"\n",
    "DON'T MODIFY ANYTHING IN THIS CELL THAT IS BELOW THIS LINE\n",
    "\"\"\"\n",
    "tests.test_generator(Generator)"
   ]
  },
  {
   "cell_type": "markdown",
   "metadata": {},
   "source": [
    "## Initialize the weights of your networks\n",
    "\n",
    "To help your models converge, you should initialize the weights of the convolutional and linear layers in your model. From reading the [original DCGAN paper](https://arxiv.org/pdf/1511.06434.pdf), they say:\n",
    "> All weights were initialized from a zero-centered Normal distribution with standard deviation 0.02.\n",
    "\n",
    "So, your next task will be to define a weight initialization function that does just this!\n",
    "\n",
    "You can refer back to the lesson on weight initialization or even consult existing model code, such as that from [the `networks.py` file in CycleGAN Github repository](https://github.com/junyanz/pytorch-CycleGAN-and-pix2pix/blob/master/models/networks.py) to help you complete this function.\n",
    "\n",
    "#### Exercise: Complete the weight initialization function\n",
    "\n",
    "* This should initialize only **convolutional** and **linear** layers\n",
    "* Initialize the weights to a normal distribution, centered around 0, with a standard deviation of 0.02.\n",
    "* The bias terms, if they exist, may be left alone or set to 0."
   ]
  },
  {
   "cell_type": "code",
   "execution_count": 114,
   "metadata": {},
   "outputs": [],
   "source": [
    "def weights_init_normal(m):\n",
    "    \"\"\"\n",
    "    Applies initial weights to certain layers in a model .\n",
    "    The weights are taken from a normal distribution \n",
    "    with mean = 0, std dev = 0.02.\n",
    "    :param m: A module or layer in a network    \n",
    "    \"\"\"\n",
    "    # classname will be something like:\n",
    "    # `Conv`, `BatchNorm2d`, `Linear`, etc.\n",
    "    classname = m.__class__.__name__\n",
    "    if classname.find('Conv') != -1 or classname.find('Linear') != -1:\n",
    "        nn.init.normal_(m.weight.data, mean=0, std=0.02)\n",
    "    \n",
    "    \"\"\"\n",
    "    if  hasattr(m, 'weight') and (classname.find('Conv') or classname.find('Linear') != -1):\n",
    "        nn.init.normal_(m.weight.data, 0.0, 0.02)\n",
    "        if hasattr(m.bias, 'data'):\n",
    "            nn.init.constant_(m.bias.data, 0.0)\n",
    "    \"\"\"\n",
    "    "
   ]
  },
  {
   "cell_type": "markdown",
   "metadata": {
    "collapsed": true
   },
   "source": [
    "## Build complete network\n",
    "\n",
    "Define your models' hyperparameters and instantiate the discriminator and generator from the classes defined above. Make sure you've passed in the correct input arguments."
   ]
  },
  {
   "cell_type": "code",
   "execution_count": 115,
   "metadata": {},
   "outputs": [],
   "source": [
    "\"\"\"\n",
    "DON'T MODIFY ANYTHING IN THIS CELL THAT IS BELOW THIS LINE\n",
    "\"\"\"\n",
    "def build_network(d_conv_dim, g_conv_dim, z_size):\n",
    "    # define discriminator and generator\n",
    "    D = Discriminator(d_conv_dim)\n",
    "    G = Generator(z_size=z_size, conv_dim=g_conv_dim)\n",
    "\n",
    "    # initialize model weights\n",
    "    D.apply(weights_init_normal)\n",
    "    G.apply(weights_init_normal)\n",
    "\n",
    "    print(D)\n",
    "    print()\n",
    "    print(G)\n",
    "    \n",
    "    return D, G\n"
   ]
  },
  {
   "cell_type": "markdown",
   "metadata": {},
   "source": [
    "#### Exercise: Define model hyperparameters"
   ]
  },
  {
   "cell_type": "code",
   "execution_count": 116,
   "metadata": {},
   "outputs": [
    {
     "name": "stdout",
     "output_type": "stream",
     "text": [
      "Discriminator(\n",
      "  (conv1): Sequential(\n",
      "    (0): Conv2d(3, 32, kernel_size=(4, 4), stride=(2, 2), padding=(1, 1), bias=False)\n",
      "  )\n",
      "  (conv2): Sequential(\n",
      "    (0): Conv2d(32, 64, kernel_size=(4, 4), stride=(2, 2), padding=(1, 1), bias=False)\n",
      "    (1): BatchNorm2d(64, eps=1e-05, momentum=0.1, affine=True, track_running_stats=True)\n",
      "  )\n",
      "  (conv3): Sequential(\n",
      "    (0): Conv2d(64, 128, kernel_size=(4, 4), stride=(2, 2), padding=(1, 1), bias=False)\n",
      "    (1): BatchNorm2d(128, eps=1e-05, momentum=0.1, affine=True, track_running_stats=True)\n",
      "  )\n",
      "  (conv4): Sequential(\n",
      "    (0): Conv2d(128, 256, kernel_size=(4, 4), stride=(2, 2), padding=(1, 1), bias=False)\n",
      "    (1): BatchNorm2d(256, eps=1e-05, momentum=0.1, affine=True, track_running_stats=True)\n",
      "  )\n",
      "  (dropout): Dropout(p=0.2)\n",
      "  (fc): Linear(in_features=1024, out_features=1, bias=True)\n",
      ")\n",
      "\n",
      "Generator(\n",
      "  (conv1): Sequential(\n",
      "    (0): ConvTranspose2d(256, 128, kernel_size=(4, 4), stride=(2, 2), padding=(1, 1), bias=False)\n",
      "    (1): BatchNorm2d(128, eps=1e-05, momentum=0.1, affine=True, track_running_stats=True)\n",
      "  )\n",
      "  (conv2): Sequential(\n",
      "    (0): ConvTranspose2d(128, 64, kernel_size=(4, 4), stride=(2, 2), padding=(1, 1), bias=False)\n",
      "    (1): BatchNorm2d(64, eps=1e-05, momentum=0.1, affine=True, track_running_stats=True)\n",
      "  )\n",
      "  (conv3): Sequential(\n",
      "    (0): ConvTranspose2d(64, 32, kernel_size=(4, 4), stride=(2, 2), padding=(1, 1), bias=False)\n",
      "    (1): BatchNorm2d(32, eps=1e-05, momentum=0.1, affine=True, track_running_stats=True)\n",
      "  )\n",
      "  (conv4): Sequential(\n",
      "    (0): ConvTranspose2d(32, 3, kernel_size=(4, 4), stride=(2, 2), padding=(1, 1), bias=False)\n",
      "  )\n",
      "  (fc): Linear(in_features=100, out_features=1024, bias=True)\n",
      "  (dropout): Dropout(p=0.2)\n",
      ")\n"
     ]
    }
   ],
   "source": [
    "# Define model hyperparams\n",
    "d_conv_dim = 32\n",
    "g_conv_dim = 32\n",
    "z_size = 100\n",
    "\n",
    "\"\"\"\n",
    "DON'T MODIFY ANYTHING IN THIS CELL THAT IS BELOW THIS LINE\n",
    "\"\"\"\n",
    "D, G = build_network(d_conv_dim, g_conv_dim, z_size)"
   ]
  },
  {
   "cell_type": "markdown",
   "metadata": {},
   "source": [
    "### Training on GPU\n",
    "\n",
    "Check if you can train on GPU. Here, we'll set this as a boolean variable `train_on_gpu`. Later, you'll be responsible for making sure that \n",
    ">* Models,\n",
    "* Model inputs, and\n",
    "* Loss function arguments\n",
    "\n",
    "Are moved to GPU, where appropriate."
   ]
  },
  {
   "cell_type": "code",
   "execution_count": 117,
   "metadata": {},
   "outputs": [
    {
     "name": "stdout",
     "output_type": "stream",
     "text": [
      "Training on GPU!\n"
     ]
    }
   ],
   "source": [
    "\"\"\"\n",
    "DON'T MODIFY ANYTHING IN THIS CELL\n",
    "\"\"\"\n",
    "import torch\n",
    "\n",
    "# Check for a GPU\n",
    "train_on_gpu = torch.cuda.is_available()\n",
    "if not train_on_gpu:\n",
    "    print('No GPU found. Please use a GPU to train your neural network.')\n",
    "else:\n",
    "    print('Training on GPU!')"
   ]
  },
  {
   "cell_type": "markdown",
   "metadata": {},
   "source": [
    "---\n",
    "## Discriminator and Generator Losses\n",
    "\n",
    "Now we need to calculate the losses for both types of adversarial networks.\n",
    "\n",
    "### Discriminator Losses\n",
    "\n",
    "> * For the discriminator, the total loss is the sum of the losses for real and fake images, `d_loss = d_real_loss + d_fake_loss`. \n",
    "* Remember that we want the discriminator to output 1 for real images and 0 for fake images, so we need to set up the losses to reflect that.\n",
    "\n",
    "\n",
    "### Generator Loss\n",
    "\n",
    "The generator loss will look similar only with flipped labels. The generator's goal is to get the discriminator to *think* its generated images are *real*.\n",
    "\n",
    "#### Exercise: Complete real and fake loss functions\n",
    "\n",
    "**You may choose to use either cross entropy or a least squares error loss to complete the following `real_loss` and `fake_loss` functions.**"
   ]
  },
  {
   "cell_type": "code",
   "execution_count": 118,
   "metadata": {},
   "outputs": [],
   "source": [
    "def real_loss(D_out):\n",
    "    '''Calculates how close discriminator outputs are to being real.\n",
    "       param, D_out: discriminator logits\n",
    "       return: real loss'''\n",
    "    batch_size = D_out.size(0)\n",
    "    labels = torch.ones(batch_size) #*0.9\n",
    "    if train_on_gpu:\n",
    "        labels = labels.cuda()\n",
    "    \n",
    "    criterion = nn.BCEWithLogitsLoss() #nn.BCELoss()#\n",
    "    loss = criterion(D_out.squeeze(), labels)\n",
    "    return loss\n",
    "\n",
    "\n",
    "def fake_loss(D_out):\n",
    "    '''Calculates how close discriminator outputs are to being fake.\n",
    "       param, D_out: discriminator logits\n",
    "       return: fake loss'''\n",
    "    batch_size = D_out.size(0)\n",
    "    labels = torch.zeros(batch_size)\n",
    "    if train_on_gpu:\n",
    "        labels = labels.cuda()\n",
    "    \n",
    "    criterion = nn.BCEWithLogitsLoss() #nn.BCELoss()#\n",
    "    loss = criterion(D_out.squeeze(), labels)\n",
    "    return loss"
   ]
  },
  {
   "cell_type": "markdown",
   "metadata": {},
   "source": [
    "## Optimizers\n",
    "\n",
    "#### Exercise: Define optimizers for your Discriminator (D) and Generator (G)\n",
    "\n",
    "Define optimizers for your models with appropriate hyperparameters."
   ]
  },
  {
   "cell_type": "code",
   "execution_count": 119,
   "metadata": {},
   "outputs": [],
   "source": [
    "import torch.optim as optim\n",
    "beta1 = 0.5\n",
    "beta2 = 0.999\n",
    "y=0.0003\n",
    "# Create optimizers for the discriminator D and generator G\n",
    "d_optimizer = optim.Adam(D.parameters(), y, [beta1, beta2])\n",
    "g_optimizer = optim.Adam(G.parameters(),  y, [beta1, beta2])"
   ]
  },
  {
   "cell_type": "markdown",
   "metadata": {},
   "source": [
    "---\n",
    "## Training\n",
    "\n",
    "Training will involve alternating between training the discriminator and the generator. You'll use your functions `real_loss` and `fake_loss` to help you calculate the discriminator losses.\n",
    "\n",
    "* You should train the discriminator by alternating on real and fake images\n",
    "* Then the generator, which tries to trick the discriminator and should have an opposing loss function\n",
    "\n",
    "\n",
    "#### Saving Samples\n",
    "\n",
    "You've been given some code to print out some loss statistics and save some generated \"fake\" samples."
   ]
  },
  {
   "cell_type": "markdown",
   "metadata": {},
   "source": [
    "#### Exercise: Complete the training function\n",
    "\n",
    "Keep in mind that, if you've moved your models to GPU, you'll also have to move any model inputs to GPU."
   ]
  },
  {
   "cell_type": "code",
   "execution_count": 120,
   "metadata": {},
   "outputs": [],
   "source": [
    "def train(D, G, n_epochs, print_every=50):\n",
    "    '''Trains adversarial networks for some number of epochs\n",
    "       param, D: the discriminator network\n",
    "       param, G: the generator network\n",
    "       param, n_epochs: number of epochs to train for\n",
    "       param, print_every: when to print and record the models' losses\n",
    "       return: D and G losses'''\n",
    "    \n",
    "    # move models to GPU\n",
    "    if train_on_gpu:\n",
    "        D.cuda()\n",
    "        G.cuda()\n",
    "\n",
    "    # keep track of loss and generated, \"fake\" samples\n",
    "    samples = []\n",
    "    losses = []\n",
    "\n",
    "    # Get some fixed data for sampling. These are images that are held\n",
    "    # constant throughout training, and allow us to inspect the model's performance\n",
    "    sample_size=16\n",
    "    fixed_z = np.random.uniform(-1, 1, size=(sample_size, z_size))\n",
    "    fixed_z = torch.from_numpy(fixed_z).float()\n",
    "    # move z to GPU if available\n",
    "    if train_on_gpu:\n",
    "        fixed_z = fixed_z.cuda()\n",
    "\n",
    "    # epoch training loop\n",
    "    for epoch in range(n_epochs):\n",
    "\n",
    "        # batch training loop\n",
    "        for batch_i, (real_images, _) in enumerate(celeba_train_loader):\n",
    "\n",
    "            batch_size = real_images.size(0)\n",
    "            real_images = scale(real_images)\n",
    "\n",
    "            # ===============================================\n",
    "            #         YOUR CODE HERE: TRAIN THE NETWORKS\n",
    "            # ===============================================\n",
    "            \n",
    "            # 1. Train the discriminator on real and fake images\n",
    "            if train_on_gpu:\n",
    "                real_images = real_images.cuda()\n",
    "            d_optimizer.zero_grad()\n",
    "            d_r_out=D(real_images)\n",
    "            d_r_loss=real_loss(d_r_out)\n",
    "            \n",
    "            fake_img=G(fixed_z)\n",
    "            \n",
    "            #z_flex = np.random.uniform(-1, 1, size=(batch_size, z_size))\n",
    "            #z_flex = torch.from_numpy(z_flex).float()\n",
    "            #if train_on_gpu:\n",
    "            #    z_flex = z_flex.cuda()\n",
    "            \n",
    "            \n",
    "            d_f_out=D(fake_img)\n",
    "            d_f_loss=fake_loss(d_f_out)\n",
    "            d_loss = d_r_loss + d_f_loss\n",
    "            \n",
    "            d_loss.backward()\n",
    "            d_optimizer.step()\n",
    "\n",
    "            # 2. Train the generator with an adversarial loss\n",
    "            g_optimizer.zero_grad()\n",
    "            #z_flex = np.random.uniform(-1, 1, size=(batch_size, z_size))\n",
    "            #z_flex = torch.from_numpy(z_flex).float()\n",
    "            #if train_on_gpu:\n",
    "            #    z_flex = z_flex.cuda()\n",
    "                       \n",
    "            fake_img=G(fixed_z)\n",
    "            g_out=D(fake_img)\n",
    "            g_loss = real_loss(g_out)\n",
    "            g_loss.backward()\n",
    "            g_optimizer.step()\n",
    "            \n",
    "            \n",
    "            # ===============================================\n",
    "            #              END OF YOUR CODE\n",
    "            # ===============================================\n",
    "\n",
    "            # Print some loss stats\n",
    "            if batch_i % print_every == 0:\n",
    "                # append discriminator loss and generator loss\n",
    "                losses.append((d_loss.item(), g_loss.item()))\n",
    "                # print discriminator and generator loss\n",
    "                print('Epoch [{:5d}/{:5d}] | d_loss: {:6.4f} | g_loss: {:6.4f}'.format(\n",
    "                        epoch+1, n_epochs, d_loss.item(), g_loss.item()))\n",
    "\n",
    "\n",
    "        ## AFTER EACH EPOCH##    \n",
    "        # this code assumes your generator is named G, feel free to change the name\n",
    "        # generate and save sample, fake images\n",
    "        G.eval() # for generating samples\n",
    "        samples_z = G(fixed_z)\n",
    "        samples.append(samples_z)\n",
    "        G.train() # back to training mode\n",
    "\n",
    "    # Save training generator samples\n",
    "    with open('train_samples.pkl', 'wb') as f:\n",
    "        pkl.dump(samples, f)\n",
    "    \n",
    "    # finally return losses\n",
    "    return losses"
   ]
  },
  {
   "cell_type": "markdown",
   "metadata": {},
   "source": [
    "Set your number of training epochs and train your GAN!"
   ]
  },
  {
   "cell_type": "code",
   "execution_count": 121,
   "metadata": {
    "scrolled": false
   },
   "outputs": [
    {
     "name": "stdout",
     "output_type": "stream",
     "text": [
      "Epoch [    1/   10] | d_loss: 1.3683 | g_loss: 0.8757\n",
      "Epoch [    1/   10] | d_loss: 0.0904 | g_loss: 4.4310\n",
      "Epoch [    1/   10] | d_loss: 1.6536 | g_loss: 3.3690\n",
      "Epoch [    1/   10] | d_loss: 0.6414 | g_loss: 1.2979\n",
      "Epoch [    1/   10] | d_loss: 0.3583 | g_loss: 2.5275\n",
      "Epoch [    1/   10] | d_loss: 0.4640 | g_loss: 2.7457\n",
      "Epoch [    1/   10] | d_loss: 0.4763 | g_loss: 2.2131\n",
      "Epoch [    1/   10] | d_loss: 0.9531 | g_loss: 3.8310\n",
      "Epoch [    1/   10] | d_loss: 0.7648 | g_loss: 2.8373\n",
      "Epoch [    2/   10] | d_loss: 0.6935 | g_loss: 2.8039\n",
      "Epoch [    2/   10] | d_loss: 0.6940 | g_loss: 2.0970\n",
      "Epoch [    2/   10] | d_loss: 0.6893 | g_loss: 2.4588\n",
      "Epoch [    2/   10] | d_loss: 0.6225 | g_loss: 2.3876\n",
      "Epoch [    2/   10] | d_loss: 0.5711 | g_loss: 2.5613\n",
      "Epoch [    2/   10] | d_loss: 0.5099 | g_loss: 2.4721\n",
      "Epoch [    2/   10] | d_loss: 1.0100 | g_loss: 2.9800\n",
      "Epoch [    2/   10] | d_loss: 0.8091 | g_loss: 2.5692\n",
      "Epoch [    2/   10] | d_loss: 0.8672 | g_loss: 0.8051\n",
      "Epoch [    3/   10] | d_loss: 0.6149 | g_loss: 2.5377\n",
      "Epoch [    3/   10] | d_loss: 0.4639 | g_loss: 1.7036\n",
      "Epoch [    3/   10] | d_loss: 0.6140 | g_loss: 2.3164\n",
      "Epoch [    3/   10] | d_loss: 0.5101 | g_loss: 2.9759\n",
      "Epoch [    3/   10] | d_loss: 0.5431 | g_loss: 2.2495\n",
      "Epoch [    3/   10] | d_loss: 0.8146 | g_loss: 2.5089\n",
      "Epoch [    3/   10] | d_loss: 0.4479 | g_loss: 3.1691\n",
      "Epoch [    3/   10] | d_loss: 0.4830 | g_loss: 1.8689\n",
      "Epoch [    3/   10] | d_loss: 0.4293 | g_loss: 2.1306\n",
      "Epoch [    4/   10] | d_loss: 0.6279 | g_loss: 1.2804\n",
      "Epoch [    4/   10] | d_loss: 0.4429 | g_loss: 2.4256\n",
      "Epoch [    4/   10] | d_loss: 0.3620 | g_loss: 2.1673\n",
      "Epoch [    4/   10] | d_loss: 0.4243 | g_loss: 1.6129\n",
      "Epoch [    4/   10] | d_loss: 0.3917 | g_loss: 2.9743\n",
      "Epoch [    4/   10] | d_loss: 0.6422 | g_loss: 2.0490\n",
      "Epoch [    4/   10] | d_loss: 0.5035 | g_loss: 2.3833\n",
      "Epoch [    4/   10] | d_loss: 0.3874 | g_loss: 2.5036\n",
      "Epoch [    4/   10] | d_loss: 0.3412 | g_loss: 3.4675\n",
      "Epoch [    5/   10] | d_loss: 0.5880 | g_loss: 4.8956\n",
      "Epoch [    5/   10] | d_loss: 0.4147 | g_loss: 1.5524\n",
      "Epoch [    5/   10] | d_loss: 0.1939 | g_loss: 2.6790\n",
      "Epoch [    5/   10] | d_loss: 0.8243 | g_loss: 2.9033\n",
      "Epoch [    5/   10] | d_loss: 0.2453 | g_loss: 4.0919\n",
      "Epoch [    5/   10] | d_loss: 0.3957 | g_loss: 2.0861\n",
      "Epoch [    5/   10] | d_loss: 0.5317 | g_loss: 2.0432\n",
      "Epoch [    5/   10] | d_loss: 0.3837 | g_loss: 2.4960\n",
      "Epoch [    5/   10] | d_loss: 0.1954 | g_loss: 3.0445\n",
      "Epoch [    6/   10] | d_loss: 0.1824 | g_loss: 3.2793\n",
      "Epoch [    6/   10] | d_loss: 0.2332 | g_loss: 3.2940\n",
      "Epoch [    6/   10] | d_loss: 0.4341 | g_loss: 5.3408\n",
      "Epoch [    6/   10] | d_loss: 0.2513 | g_loss: 4.1853\n",
      "Epoch [    6/   10] | d_loss: 0.2426 | g_loss: 3.1149\n",
      "Epoch [    6/   10] | d_loss: 0.8415 | g_loss: 3.2921\n",
      "Epoch [    6/   10] | d_loss: 0.2969 | g_loss: 3.4794\n",
      "Epoch [    6/   10] | d_loss: 0.2225 | g_loss: 3.6163\n",
      "Epoch [    6/   10] | d_loss: 0.0960 | g_loss: 4.3201\n",
      "Epoch [    7/   10] | d_loss: 0.1953 | g_loss: 3.0079\n",
      "Epoch [    7/   10] | d_loss: 0.1720 | g_loss: 4.2326\n",
      "Epoch [    7/   10] | d_loss: 0.2097 | g_loss: 4.8326\n",
      "Epoch [    7/   10] | d_loss: 0.1247 | g_loss: 5.5376\n",
      "Epoch [    7/   10] | d_loss: 0.1882 | g_loss: 3.8871\n",
      "Epoch [    7/   10] | d_loss: 0.5104 | g_loss: 2.3677\n",
      "Epoch [    7/   10] | d_loss: 0.4372 | g_loss: 4.4983\n",
      "Epoch [    7/   10] | d_loss: 0.3583 | g_loss: 2.2951\n",
      "Epoch [    7/   10] | d_loss: 1.3866 | g_loss: 7.5434\n",
      "Epoch [    8/   10] | d_loss: 0.3263 | g_loss: 5.7606\n",
      "Epoch [    8/   10] | d_loss: 0.1069 | g_loss: 4.4459\n",
      "Epoch [    8/   10] | d_loss: 0.4096 | g_loss: 3.6844\n",
      "Epoch [    8/   10] | d_loss: 0.3768 | g_loss: 5.4044\n",
      "Epoch [    8/   10] | d_loss: 0.2173 | g_loss: 3.2461\n",
      "Epoch [    8/   10] | d_loss: 0.0382 | g_loss: 4.9414\n",
      "Epoch [    8/   10] | d_loss: 0.1951 | g_loss: 4.8987\n",
      "Epoch [    8/   10] | d_loss: 0.0941 | g_loss: 4.0615\n",
      "Epoch [    8/   10] | d_loss: 0.3169 | g_loss: 2.8907\n",
      "Epoch [    9/   10] | d_loss: 0.1458 | g_loss: 4.8255\n",
      "Epoch [    9/   10] | d_loss: 0.1231 | g_loss: 5.9146\n",
      "Epoch [    9/   10] | d_loss: 0.4505 | g_loss: 3.9502\n",
      "Epoch [    9/   10] | d_loss: 0.3250 | g_loss: 5.3932\n",
      "Epoch [    9/   10] | d_loss: 0.1332 | g_loss: 3.5303\n",
      "Epoch [    9/   10] | d_loss: 0.3082 | g_loss: 3.7821\n",
      "Epoch [    9/   10] | d_loss: 0.2078 | g_loss: 2.7764\n",
      "Epoch [    9/   10] | d_loss: 0.0845 | g_loss: 3.8996\n",
      "Epoch [    9/   10] | d_loss: 0.3118 | g_loss: 3.3802\n",
      "Epoch [   10/   10] | d_loss: 0.4505 | g_loss: 5.0690\n",
      "Epoch [   10/   10] | d_loss: 0.0876 | g_loss: 5.4227\n",
      "Epoch [   10/   10] | d_loss: 0.0773 | g_loss: 5.0984\n",
      "Epoch [   10/   10] | d_loss: 0.0552 | g_loss: 5.3048\n",
      "Epoch [   10/   10] | d_loss: 0.2135 | g_loss: 6.0912\n",
      "Epoch [   10/   10] | d_loss: 0.0410 | g_loss: 4.5792\n",
      "Epoch [   10/   10] | d_loss: 0.7543 | g_loss: 4.8909\n",
      "Epoch [   10/   10] | d_loss: 0.0436 | g_loss: 5.6974\n",
      "Epoch [   10/   10] | d_loss: 0.2907 | g_loss: 3.7863\n"
     ]
    }
   ],
   "source": [
    "# set number of epochs \n",
    "\n",
    "    \n",
    "n_epochs = 10\n",
    "\n",
    "\n",
    "\"\"\"\n",
    "DON'T MODIFY ANYTHING IN THIS CELL\n",
    "\"\"\"\n",
    "# call training function\n",
    "\n",
    "with active_session():\n",
    "    losses = train(D, G, n_epochs=n_epochs)"
   ]
  },
  {
   "cell_type": "markdown",
   "metadata": {
    "collapsed": true
   },
   "source": [
    "## Training loss\n",
    "\n",
    "Plot the training losses for the generator and discriminator, recorded after each epoch."
   ]
  },
  {
   "cell_type": "code",
   "execution_count": 122,
   "metadata": {},
   "outputs": [
    {
     "data": {
      "text/plain": [
       "<matplotlib.legend.Legend at 0x7ff610b34080>"
      ]
     },
     "execution_count": 122,
     "metadata": {},
     "output_type": "execute_result"
    },
    {
     "data": {
      "image/png": "[encoded data removed]",
      "text/plain": [
       "<matplotlib.figure.Figure at 0x7ff610c54ac8>"
      ]
     },
     "metadata": {
      "needs_background": "light"
     },
     "output_type": "display_data"
    }
   ],
   "source": [
    "fig, ax = plt.subplots()\n",
    "losses = np.array(losses)\n",
    "plt.plot(losses.T[0], label='Discriminator', alpha=0.5)\n",
    "plt.plot(losses.T[1], label='Generator', alpha=0.5)\n",
    "plt.title(\"Training Losses\")\n",
    "plt.legend()"
   ]
  },
  {
   "cell_type": "markdown",
   "metadata": {
    "collapsed": true
   },
   "source": [
    "## Generator samples from training\n",
    "\n",
    "View samples of images from the generator, and answer a question about the strengths and weaknesses of your trained models."
   ]
  },
  {
   "cell_type": "code",
   "execution_count": 126,
   "metadata": {},
   "outputs": [],
   "source": [
    "# helper function for viewing a list of passed in sample images\n",
    "def view_samples(epoch, samples):\n",
    "    fig, axes = plt.subplots(figsize=(16,4), nrows=2, ncols=8, sharey=True, sharex=True)\n",
    "    for ax, img in zip(axes.flatten(), samples[epoch]):\n",
    "        img = img.detach().cpu().numpy()\n",
    "        img = np.transpose(img, (1, 2, 0))\n",
    "        img = ((img + 1)*255 / (2)).astype(np.uint8)\n",
    "        ax.xaxis.set_visible(False)\n",
    "        ax.yaxis.set_visible(False)\n",
    "        im = ax.imshow(img.reshape((32,32,3)))"
   ]
  },
  {
   "cell_type": "code",
   "execution_count": 127,
   "metadata": {},
   "outputs": [],
   "source": [
    "# Load samples from generator, taken while training\n",
    "with open('train_samples.pkl', 'rb') as f:\n",
    "    samples = pkl.load(f)"
   ]
  },
  {
   "cell_type": "code",
   "execution_count": 128,
   "metadata": {},
   "outputs": [
    {
     "data": {
      "image/png": "[encoded data removed]",
      "text/plain": [
       "<matplotlib.figure.Figure at 0x7ff6073b6048>"
      ]
     },
     "metadata": {
      "needs_background": "light"
     },
     "output_type": "display_data"
    }
   ],
   "source": [
    "_ = view_samples(-1, samples)"
   ]
  },
  {
   "cell_type": "markdown",
   "metadata": {},
   "source": [
    "### Question: What do you notice about your generated samples and how might you improve this model?\n",
    "When you answer this question, consider the following factors:\n",
    "* The dataset is biased; it is made of \"celebrity\" faces that are mostly white\n",
    "* Model size; larger models have the opportunity to learn more features in a data feature space\n",
    "* Optimization strategy; optimizers and number of epochs affect your final result\n"
   ]
  },
  {
   "cell_type": "markdown",
   "metadata": {},
   "source": [
    "**Answer:** At the beginning the generated samples didn't look at all as human faces. \n",
    "\n",
    "Tunning the parameters (trying different values, adding dropout and normalizations make the model iteration by iteration work better, but this is a verry long job).  \n",
    "\n",
    "I think with many more epochs and a deeper model it could achieve much better performance, but would take a lot more time to train.  \n",
    "\n",
    "For what I read Adam optimizer works perfectly fine for GAN, maybe I could try SGD for the discriminator and leave ADAM just for the generator.  \n",
    "\n",
    "I don't think the bias of mostly white celebrities would be bad for the model, it actually should be easier for the model to learn if the faces of the data had resembling skin color.  "
   ]
  },
  {
   "cell_type": "markdown",
   "metadata": {},
   "source": [
    "### Submitting This Project\n",
    "When submitting this project, make sure to run all the cells before saving the notebook. Save the notebook file as \"dlnd_face_generation.ipynb\" and save it as a HTML file under \"File\" -> \"Download as\". Include the \"problem_unittests.py\" files in your submission."
   ]
  },
  {
   "cell_type": "code",
   "execution_count": null,
   "metadata": {},
   "outputs": [],
   "source": []
  }
 ],
 "metadata": {
  "kernelspec": {
   "display_name": "Python 3",
   "language": "python",
   "name": "python3"
  },
  "language_info": {
   "codemirror_mode": {
    "name": "ipython",
    "version": 3
   },
   "file_extension": ".py",
   "mimetype": "text/x-python",
   "name": "python",
   "nbconvert_exporter": "python",
   "pygments_lexer": "ipython3",
   "version": "3.6.3"
  }
 },
 "nbformat": 4,
 "nbformat_minor": 1
}
